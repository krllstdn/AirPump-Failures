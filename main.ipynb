{
 "cells": [
  {
   "cell_type": "markdown",
   "metadata": {},
   "source": [
    "The problem is an example of binary classification problem. "
   ]
  },
  {
   "cell_type": "code",
   "execution_count": 561,
   "metadata": {},
   "outputs": [],
   "source": [
    "import pandas as pd"
   ]
  },
  {
   "cell_type": "markdown",
   "metadata": {},
   "source": [
    "Load data and get to know it a bit"
   ]
  },
  {
   "cell_type": "code",
   "execution_count": 562,
   "metadata": {},
   "outputs": [
    {
     "data": {
      "text/plain": [
       "(18466364, 3)"
      ]
     },
     "execution_count": 562,
     "metadata": {},
     "output_type": "execute_result"
    }
   ],
   "source": [
    "df = pd.read_parquet('data/data.parquet', engine='auto')\n",
    "df.shape "
   ]
  },
  {
   "cell_type": "code",
   "execution_count": 563,
   "metadata": {},
   "outputs": [
    {
     "data": {
      "text/plain": [
       "(27385, 5)"
      ]
     },
     "execution_count": 563,
     "metadata": {},
     "output_type": "execute_result"
    }
   ],
   "source": [
    "labels = pd.read_csv('data/labels.csv')\n",
    "labels.shape"
   ]
  },
  {
   "cell_type": "code",
   "execution_count": 564,
   "metadata": {},
   "outputs": [
    {
     "data": {
      "text/html": [
       "<div>\n",
       "<style scoped>\n",
       "    .dataframe tbody tr th:only-of-type {\n",
       "        vertical-align: middle;\n",
       "    }\n",
       "\n",
       "    .dataframe tbody tr th {\n",
       "        vertical-align: top;\n",
       "    }\n",
       "\n",
       "    .dataframe thead th {\n",
       "        text-align: right;\n",
       "    }\n",
       "</style>\n",
       "<table border=\"1\" class=\"dataframe\">\n",
       "  <thead>\n",
       "    <tr style=\"text-align: right;\">\n",
       "      <th></th>\n",
       "      <th>MachineId</th>\n",
       "      <th>MeasurementId</th>\n",
       "      <th>Pressure</th>\n",
       "    </tr>\n",
       "  </thead>\n",
       "  <tbody>\n",
       "    <tr>\n",
       "      <th>0</th>\n",
       "      <td>0_0_0</td>\n",
       "      <td>0</td>\n",
       "      <td>0.0</td>\n",
       "    </tr>\n",
       "    <tr>\n",
       "      <th>1</th>\n",
       "      <td>0_0_0</td>\n",
       "      <td>0</td>\n",
       "      <td>0.0</td>\n",
       "    </tr>\n",
       "    <tr>\n",
       "      <th>2</th>\n",
       "      <td>0_0_0</td>\n",
       "      <td>0</td>\n",
       "      <td>0.0</td>\n",
       "    </tr>\n",
       "    <tr>\n",
       "      <th>3</th>\n",
       "      <td>0_0_0</td>\n",
       "      <td>0</td>\n",
       "      <td>0.0</td>\n",
       "    </tr>\n",
       "    <tr>\n",
       "      <th>4</th>\n",
       "      <td>0_0_0</td>\n",
       "      <td>0</td>\n",
       "      <td>0.0</td>\n",
       "    </tr>\n",
       "  </tbody>\n",
       "</table>\n",
       "</div>"
      ],
      "text/plain": [
       "  MachineId  MeasurementId  Pressure\n",
       "0     0_0_0              0       0.0\n",
       "1     0_0_0              0       0.0\n",
       "2     0_0_0              0       0.0\n",
       "3     0_0_0              0       0.0\n",
       "4     0_0_0              0       0.0"
      ]
     },
     "execution_count": 564,
     "metadata": {},
     "output_type": "execute_result"
    }
   ],
   "source": [
    "df.head()"
   ]
  },
  {
   "cell_type": "code",
   "execution_count": 565,
   "metadata": {},
   "outputs": [
    {
     "data": {
      "text/html": [
       "<div>\n",
       "<style scoped>\n",
       "    .dataframe tbody tr th:only-of-type {\n",
       "        vertical-align: middle;\n",
       "    }\n",
       "\n",
       "    .dataframe tbody tr th {\n",
       "        vertical-align: top;\n",
       "    }\n",
       "\n",
       "    .dataframe thead th {\n",
       "        text-align: right;\n",
       "    }\n",
       "</style>\n",
       "<table border=\"1\" class=\"dataframe\">\n",
       "  <thead>\n",
       "    <tr style=\"text-align: right;\">\n",
       "      <th></th>\n",
       "      <th>MachineId</th>\n",
       "      <th>MeasurementId</th>\n",
       "      <th>PumpFailed</th>\n",
       "      <th>SlowStart</th>\n",
       "      <th>SlowEnd</th>\n",
       "    </tr>\n",
       "  </thead>\n",
       "  <tbody>\n",
       "    <tr>\n",
       "      <th>0</th>\n",
       "      <td>0_0_0</td>\n",
       "      <td>0</td>\n",
       "      <td>False</td>\n",
       "      <td>False</td>\n",
       "      <td>False</td>\n",
       "    </tr>\n",
       "    <tr>\n",
       "      <th>1</th>\n",
       "      <td>0_0_1</td>\n",
       "      <td>-1</td>\n",
       "      <td>NaN</td>\n",
       "      <td>NaN</td>\n",
       "      <td>NaN</td>\n",
       "    </tr>\n",
       "    <tr>\n",
       "      <th>2</th>\n",
       "      <td>0_0_2</td>\n",
       "      <td>0</td>\n",
       "      <td>False</td>\n",
       "      <td>False</td>\n",
       "      <td>False</td>\n",
       "    </tr>\n",
       "    <tr>\n",
       "      <th>3</th>\n",
       "      <td>0_0_3</td>\n",
       "      <td>0</td>\n",
       "      <td>True</td>\n",
       "      <td>False</td>\n",
       "      <td>False</td>\n",
       "    </tr>\n",
       "    <tr>\n",
       "      <th>4</th>\n",
       "      <td>0_1_0</td>\n",
       "      <td>-1</td>\n",
       "      <td>NaN</td>\n",
       "      <td>NaN</td>\n",
       "      <td>NaN</td>\n",
       "    </tr>\n",
       "  </tbody>\n",
       "</table>\n",
       "</div>"
      ],
      "text/plain": [
       "  MachineId  MeasurementId PumpFailed SlowStart SlowEnd\n",
       "0     0_0_0              0      False     False   False\n",
       "1     0_0_1             -1        NaN       NaN     NaN\n",
       "2     0_0_2              0      False     False   False\n",
       "3     0_0_3              0       True     False   False\n",
       "4     0_1_0             -1        NaN       NaN     NaN"
      ]
     },
     "execution_count": 565,
     "metadata": {},
     "output_type": "execute_result"
    }
   ],
   "source": [
    "labels.head()"
   ]
  },
  {
   "cell_type": "code",
   "execution_count": 566,
   "metadata": {},
   "outputs": [
    {
     "name": "stdout",
     "output_type": "stream",
     "text": [
      "Unique machines in df (556,)\n",
      "Unique machines in labels (556,)\n",
      "Unique measurements in df (8836,)\n",
      "Unique measurements in labels (8836,)\n"
     ]
    }
   ],
   "source": [
    "# Just to be sure that we have the same numer of machines and measurements in both dataframes\n",
    "print(\"Unique machines in df\", df['MachineId'].unique().shape)\n",
    "print(\"Unique machines in labels\", labels['MachineId'].unique().shape)\n",
    "print(\"Unique measurements in df\", df['MeasurementId'].unique().shape)\n",
    "print(\"Unique measurements in labels\", labels['MeasurementId'].unique().shape)"
   ]
  },
  {
   "cell_type": "markdown",
   "metadata": {},
   "source": [
    "### Data cleaning"
   ]
  },
  {
   "cell_type": "code",
   "execution_count": 567,
   "metadata": {},
   "outputs": [
    {
     "data": {
      "text/plain": [
       "(26900, 5)"
      ]
     },
     "execution_count": 567,
     "metadata": {},
     "output_type": "execute_result"
    }
   ],
   "source": [
    "# drop rows with missing labels in our target column\n",
    "labels.dropna(subset=[\"PumpFailed\"], inplace=True)\n",
    "labels.shape"
   ]
  },
  {
   "cell_type": "code",
   "execution_count": 568,
   "metadata": {},
   "outputs": [],
   "source": [
    "# deleting values that are not target values and contain a lot of missing values\n",
    "labels.drop(columns=[\"SlowEnd\", \"SlowStart\"], inplace=True)"
   ]
  },
  {
   "cell_type": "code",
   "execution_count": 569,
   "metadata": {},
   "outputs": [
    {
     "data": {
      "text/plain": [
       "(13195033, 3)"
      ]
     },
     "execution_count": 569,
     "metadata": {},
     "output_type": "execute_result"
    }
   ],
   "source": [
    "# keep only measurements with the remaining labels\n",
    "df_filtered = df.merge(labels[['MachineId', 'MeasurementId']], on=['MachineId', 'MeasurementId'], how='inner')\n",
    "df_filtered.shape"
   ]
  },
  {
   "cell_type": "code",
   "execution_count": 570,
   "metadata": {},
   "outputs": [
    {
     "name": "stdout",
     "output_type": "stream",
     "text": [
      "Unique machines in labels (374,)\n",
      "Unique measurements in labels (8835,)\n"
     ]
    }
   ],
   "source": [
    "# checking how the numbers have changed after filtering\n",
    "print(\"Unique machines in labels\", labels['MachineId'].unique().shape)\n",
    "print(\"Unique measurements in labels\", labels['MeasurementId'].unique().shape)"
   ]
  },
  {
   "cell_type": "markdown",
   "metadata": {},
   "source": [
    "First of all, I want to know how do failures and normal measurements look like:"
   ]
  },
  {
   "cell_type": "code",
   "execution_count": 571,
   "metadata": {},
   "outputs": [
    {
     "data": {
      "image/png": "[encoded data removed]",
      "text/plain": [
       "<Figure size 1000x600 with 4 Axes>"
      ]
     },
     "metadata": {},
     "output_type": "display_data"
    }
   ],
   "source": [
    "import matplotlib.pyplot as plt\n",
    "\n",
    "# get data for two pump failures and two normal pumps\n",
    "pump_failure_1 = df[(df['MachineId'] == '0_0_3') & (df['MeasurementId'] == 0)]\n",
    "pump_failure_2 = df[(df['MachineId'] == '0_1_1') & (df['MeasurementId'] == 1)]\n",
    "pump_normal_1 = df[(df['MachineId'] == '0_0_0') & (df['MeasurementId'] == 0)]\n",
    "pump_normal_2 = df[(df['MachineId'] == '0_0_0') & (df['MeasurementId'] == 0)]\n",
    "\n",
    "# Plot the graph to see the examples of pump failure and normal pump\n",
    "plt.figure(figsize=(10, 6))\n",
    "plt.subplots_adjust(hspace=0.3, wspace=0.3)\n",
    "\n",
    "plt.subplot(2, 2, 1)\n",
    "plt.plot(pump_failure_1['Pressure'])\n",
    "plt.title(f'PumpFailure')\n",
    "\n",
    "plt.subplot(2, 2, 2)\n",
    "plt.title(f'PumpFailure')\n",
    "plt.plot(pump_failure_2['Pressure'])\n",
    "\n",
    "plt.subplot(2, 2, 3)\n",
    "plt.title(f'Pump Normal')\n",
    "plt.plot(pump_normal_1['Pressure'])\n",
    "\n",
    "plt.subplot(2, 2, 4)\n",
    "plt.title(f'Pump Normal')\n",
    "plt.plot(pump_normal_2['Pressure'])\n",
    "\n",
    "plt.show()\n"
   ]
  },
  {
   "cell_type": "markdown",
   "metadata": {},
   "source": [
    "### Feature Engineering"
   ]
  },
  {
   "cell_type": "markdown",
   "metadata": {},
   "source": [
    "Ok, now we can get to the feature engineering.  First features that come to mind are basic statistical descriptors, such as mean, standard deviation, min and max values."
   ]
  },
  {
   "cell_type": "code",
   "execution_count": 572,
   "metadata": {},
   "outputs": [
    {
     "data": {
      "text/html": [
       "<div>\n",
       "<style scoped>\n",
       "    .dataframe tbody tr th:only-of-type {\n",
       "        vertical-align: middle;\n",
       "    }\n",
       "\n",
       "    .dataframe tbody tr th {\n",
       "        vertical-align: top;\n",
       "    }\n",
       "\n",
       "    .dataframe thead th {\n",
       "        text-align: right;\n",
       "    }\n",
       "</style>\n",
       "<table border=\"1\" class=\"dataframe\">\n",
       "  <thead>\n",
       "    <tr style=\"text-align: right;\">\n",
       "      <th></th>\n",
       "      <th>MachineId</th>\n",
       "      <th>MeasurementId</th>\n",
       "      <th>mean</th>\n",
       "      <th>std</th>\n",
       "      <th>min</th>\n",
       "      <th>max</th>\n",
       "      <th>PumpFailed</th>\n",
       "    </tr>\n",
       "  </thead>\n",
       "  <tbody>\n",
       "    <tr>\n",
       "      <th>0</th>\n",
       "      <td>0_0_0</td>\n",
       "      <td>0</td>\n",
       "      <td>0.375074</td>\n",
       "      <td>0.534507</td>\n",
       "      <td>0.0</td>\n",
       "      <td>1.584466</td>\n",
       "      <td>False</td>\n",
       "    </tr>\n",
       "    <tr>\n",
       "      <th>1</th>\n",
       "      <td>0_0_0</td>\n",
       "      <td>215</td>\n",
       "      <td>0.355364</td>\n",
       "      <td>0.625983</td>\n",
       "      <td>0.0</td>\n",
       "      <td>1.838710</td>\n",
       "      <td>False</td>\n",
       "    </tr>\n",
       "    <tr>\n",
       "      <th>2</th>\n",
       "      <td>0_0_0</td>\n",
       "      <td>237</td>\n",
       "      <td>0.499585</td>\n",
       "      <td>0.693371</td>\n",
       "      <td>0.0</td>\n",
       "      <td>1.927632</td>\n",
       "      <td>False</td>\n",
       "    </tr>\n",
       "    <tr>\n",
       "      <th>3</th>\n",
       "      <td>0_0_0</td>\n",
       "      <td>353</td>\n",
       "      <td>0.480250</td>\n",
       "      <td>0.408381</td>\n",
       "      <td>0.0</td>\n",
       "      <td>1.275996</td>\n",
       "      <td>False</td>\n",
       "    </tr>\n",
       "    <tr>\n",
       "      <th>4</th>\n",
       "      <td>0_0_0</td>\n",
       "      <td>411</td>\n",
       "      <td>0.487980</td>\n",
       "      <td>0.616258</td>\n",
       "      <td>0.0</td>\n",
       "      <td>1.922395</td>\n",
       "      <td>True</td>\n",
       "    </tr>\n",
       "  </tbody>\n",
       "</table>\n",
       "</div>"
      ],
      "text/plain": [
       "  MachineId  MeasurementId      mean       std  min       max PumpFailed\n",
       "0     0_0_0              0  0.375074  0.534507  0.0  1.584466      False\n",
       "1     0_0_0            215  0.355364  0.625983  0.0  1.838710      False\n",
       "2     0_0_0            237  0.499585  0.693371  0.0  1.927632      False\n",
       "3     0_0_0            353  0.480250  0.408381  0.0  1.275996      False\n",
       "4     0_0_0            411  0.487980  0.616258  0.0  1.922395       True"
      ]
     },
     "execution_count": 572,
     "metadata": {},
     "output_type": "execute_result"
    }
   ],
   "source": [
    "# let's sort the data by MachineId and MeasurementId\n",
    "df_filtered = df_filtered.sort_values(by=['MachineId', 'MeasurementId'])\n",
    "\n",
    "# create first features\n",
    "statistical_features = df_filtered.groupby(['MachineId', 'MeasurementId'])['Pressure'].agg(['mean', 'std', 'min', 'max']).reset_index()\n",
    "features_labels = pd.merge(statistical_features, labels, on=['MachineId', 'MeasurementId'], how='inner')\n",
    "features_labels.head()  "
   ]
  },
  {
   "cell_type": "code",
   "execution_count": 573,
   "metadata": {},
   "outputs": [
    {
     "data": {
      "text/plain": [
       "(26900, 7)"
      ]
     },
     "execution_count": 573,
     "metadata": {},
     "output_type": "execute_result"
    }
   ],
   "source": [
    "final_df = features_labels[['MachineId', 'MeasurementId', 'mean', 'std', 'min', 'max', 'PumpFailed']]\n",
    "final_df.shape"
   ]
  },
  {
   "cell_type": "markdown",
   "metadata": {},
   "source": [
    "### Training"
   ]
  },
  {
   "cell_type": "markdown",
   "metadata": {},
   "source": [
    "Ok, now we have something that we can train an actual classifier on. So let's do that and check how we are doing. Firs let's check the data type of the target value:"
   ]
  },
  {
   "cell_type": "code",
   "execution_count": 574,
   "metadata": {},
   "outputs": [
    {
     "data": {
      "text/plain": [
       "dtype('O')"
      ]
     },
     "execution_count": 574,
     "metadata": {},
     "output_type": "execute_result"
    }
   ],
   "source": [
    "final_df['PumpFailed'].dtype"
   ]
  },
  {
   "cell_type": "code",
   "execution_count": 575,
   "metadata": {},
   "outputs": [],
   "source": [
    "# the target value is of type object, so let's convert it to boolean\n",
    "final_df[\"PumpFailed\"] = final_df[\"PumpFailed\"].astype(bool)"
   ]
  },
  {
   "cell_type": "code",
   "execution_count": 576,
   "metadata": {},
   "outputs": [
    {
     "data": {
      "text/plain": [
       "dtype('bool')"
      ]
     },
     "execution_count": 576,
     "metadata": {},
     "output_type": "execute_result"
    }
   ],
   "source": [
    "final_df['PumpFailed'].dtype"
   ]
  },
  {
   "cell_type": "code",
   "execution_count": 577,
   "metadata": {},
   "outputs": [],
   "source": [
    "from sklearn.model_selection import train_test_split\n",
    "\n",
    "# divide the data into training and test sets\n",
    "X_train, X_test, y_train, y_test = train_test_split(final_df.drop(['PumpFailed', \"MeasurementId\", \"MachineId\"], axis=1), final_df['PumpFailed'], test_size=0.2, random_state=42)"
   ]
  },
  {
   "cell_type": "markdown",
   "metadata": {},
   "source": [
    "Let's fit the first classifier. I like to start with SGD classifier so let's train it and assess the performance:"
   ]
  },
  {
   "cell_type": "code",
   "execution_count": 578,
   "metadata": {},
   "outputs": [
    {
     "data": {
      "text/plain": [
       "array([0.89015891, 0.89028301, 0.89028301])"
      ]
     },
     "execution_count": 578,
     "metadata": {},
     "output_type": "execute_result"
    }
   ],
   "source": [
    "from sklearn.linear_model import SGDClassifier\n",
    "from sklearn.model_selection import cross_val_score\n",
    "\n",
    "sgd_clf = SGDClassifier(random_state=42)\n",
    "sgd_clf.fit(X_train, y_train)\n",
    "\n",
    "cross_val_score(sgd_clf, X_train, y_train, cv=3, scoring=\"accuracy\") "
   ]
  },
  {
   "cell_type": "markdown",
   "metadata": {},
   "source": [
    "too good to be true :D Let's check with other methods"
   ]
  },
  {
   "cell_type": "code",
   "execution_count": 579,
   "metadata": {},
   "outputs": [
    {
     "data": {
      "text/plain": [
       "array([[19158,     0],\n",
       "       [ 2362,     0]])"
      ]
     },
     "execution_count": 579,
     "metadata": {},
     "output_type": "execute_result"
    }
   ],
   "source": [
    "from sklearn.model_selection import cross_val_predict\n",
    "from sklearn.metrics import confusion_matrix\n",
    "\n",
    "y_train_pred = cross_val_predict(sgd_clf, X_train, y_train, cv=3)\n",
    "confusion_matrix(y_train, y_train_pred)\n"
   ]
  },
  {
   "cell_type": "markdown",
   "metadata": {},
   "source": [
    "Uups! The model predicts `false` no matter the features. It likely happens due to the class imbalance in the target column."
   ]
  },
  {
   "cell_type": "code",
   "execution_count": 580,
   "metadata": {},
   "outputs": [
    {
     "data": {
      "text/plain": [
       "array([[19158,     0],\n",
       "       [    0,  2362]])"
      ]
     },
     "execution_count": 580,
     "metadata": {},
     "output_type": "execute_result"
    }
   ],
   "source": [
    "confusion_matrix(y_train, y_train) # for reference"
   ]
  },
  {
   "cell_type": "code",
   "execution_count": 581,
   "metadata": {},
   "outputs": [
    {
     "data": {
      "image/png": "[encoded data removed]",
      "text/plain": [
       "<Figure size 640x480 with 1 Axes>"
      ]
     },
     "metadata": {},
     "output_type": "display_data"
    }
   ],
   "source": [
    "from sklearn.metrics import roc_curve\n",
    "\n",
    "y_scores = cross_val_predict(sgd_clf, X_train, y_train, cv=3,\n",
    "                                 method=\"decision_function\")\n",
    "fpr, tpr, thresholds = roc_curve(y_train, y_scores)\n",
    "\n",
    "def plot_roc_curve(fpr, tpr, label=None): \n",
    "    plt.plot(fpr, tpr, linewidth=2, label=label) \n",
    "    plt.plot([0, 1], [0, 1], 'k--')\n",
    "\n",
    "plot_roc_curve(fpr, tpr)\n",
    "plt.show()"
   ]
  },
  {
   "cell_type": "code",
   "execution_count": 582,
   "metadata": {},
   "outputs": [
    {
     "name": "stdout",
     "output_type": "stream",
     "text": [
      "ROC AUC Score:  0.5129990155398323\n",
      "Precision Score:  0.0\n",
      "Recall Score:  0.0\n",
      "F1 Score:  0.0\n"
     ]
    },
    {
     "name": "stderr",
     "output_type": "stream",
     "text": [
      "/Users/kyrylo/anaconda3/envs/datamole/lib/python3.11/site-packages/sklearn/metrics/_classification.py:1344: UndefinedMetricWarning: Precision is ill-defined and being set to 0.0 due to no predicted samples. Use `zero_division` parameter to control this behavior.\n",
      "  _warn_prf(average, modifier, msg_start, len(result))\n"
     ]
    }
   ],
   "source": [
    "from sklearn.metrics import roc_auc_score, precision_score, recall_score, f1_score\n",
    "print(\"ROC AUC Score: \", roc_auc_score(y_train, y_scores))\n",
    "print(\"Precision Score: \", precision_score(y_train, y_train_pred))\n",
    "print(\"Recall Score: \", recall_score(y_train, y_train_pred))\n",
    "print(\"F1 Score: \", f1_score(y_train, y_train_pred))"
   ]
  },
  {
   "cell_type": "markdown",
   "metadata": {},
   "source": [
    "Ok, the model is bad. The there are two problems: engineered features are not descriptive enough and imbalanced dataset. Let's check the latter:"
   ]
  },
  {
   "cell_type": "code",
   "execution_count": 583,
   "metadata": {},
   "outputs": [
    {
     "data": {
      "image/png": "[encoded data removed]",
      "text/plain": [
       "<Figure size 500x300 with 1 Axes>"
      ]
     },
     "metadata": {},
     "output_type": "display_data"
    }
   ],
   "source": [
    "import matplotlib.pyplot as plt\n",
    "\n",
    "# the dataset is highly imbalanced\n",
    "labels['PumpFailed'].value_counts().plot(kind='bar', figsize=(5, 3))\n",
    "plt.title('Distribution of PumpFailed')\n",
    "plt.xlabel('Pump Failed')\n",
    "plt.ylabel('Count')\n",
    "plt.xticks([0, 1], ['False', 'True'], rotation=0)\n",
    "plt.show()"
   ]
  },
  {
   "cell_type": "markdown",
   "metadata": {},
   "source": [
    "Indeed, the dataset is highly imbalanced. Let's fix this with undersampling:"
   ]
  },
  {
   "cell_type": "code",
   "execution_count": 584,
   "metadata": {},
   "outputs": [
    {
     "name": "stdout",
     "output_type": "stream",
     "text": [
      "Class Distribution Before Under-sampling: PumpFailed\n",
      "False    23958\n",
      "True      2942\n",
      "Name: count, dtype: int64\n",
      "\n",
      "Class Distribution After Under-sampling: PumpFailed\n",
      "0    2942\n",
      "1    2942\n",
      "Name: count, dtype: int64\n"
     ]
    }
   ],
   "source": [
    "from imblearn.under_sampling import RandomUnderSampler\n",
    "\n",
    "\n",
    "print(\"Class Distribution Before Under-sampling:\", final_df['PumpFailed'].value_counts())\n",
    "\n",
    "rnd_us = RandomUnderSampler(random_state=42)\n",
    "features_resampled, labels_resampled = rnd_us.fit_resample(final_df.drop('PumpFailed', axis=1), final_df['PumpFailed'].astype(int))\n",
    "\n",
    "df_resampled = pd.concat([pd.DataFrame(features_resampled), pd.Series(labels_resampled, name='PumpFailed')], axis=1)\n",
    "\n",
    "print(\"\\nClass Distribution After Under-sampling:\",  df_resampled['PumpFailed'].value_counts())"
   ]
  },
  {
   "cell_type": "markdown",
   "metadata": {},
   "source": [
    "That's better. Let's train a model again and see what changed:"
   ]
  },
  {
   "cell_type": "code",
   "execution_count": 585,
   "metadata": {},
   "outputs": [],
   "source": [
    "from sklearn.model_selection import train_test_split\n",
    "\n",
    "X_train_resampled, X_test_resampled, y_train_resampled, y_test_resampled = train_test_split(features_resampled.drop(['MeasurementId'], axis=1), labels_resampled, test_size=0.2, random_state=42)"
   ]
  },
  {
   "cell_type": "code",
   "execution_count": 586,
   "metadata": {},
   "outputs": [
    {
     "data": {
      "text/plain": [
       "array([0.58253665, 0.5583174 , 0.56341619])"
      ]
     },
     "execution_count": 586,
     "metadata": {},
     "output_type": "execute_result"
    }
   ],
   "source": [
    "sgd_clf = SGDClassifier(random_state=42)\n",
    "sgd_clf.fit(X_train_resampled, y_train_resampled)\n",
    "\n",
    "cross_val_score(sgd_clf, X_train_resampled, y_train_resampled, cv=3, scoring=\"accuracy\")"
   ]
  },
  {
   "cell_type": "code",
   "execution_count": 587,
   "metadata": {},
   "outputs": [
    {
     "data": {
      "text/plain": [
       "array([[ 809, 1519],\n",
       "       [ 514, 1865]])"
      ]
     },
     "execution_count": 587,
     "metadata": {},
     "output_type": "execute_result"
    }
   ],
   "source": [
    "y_train_pred_resampled = cross_val_predict(sgd_clf, X_train_resampled, y_train_resampled, cv=3)\n",
    "confusion_matrix(y_train_resampled, y_train_pred_resampled)"
   ]
  },
  {
   "cell_type": "markdown",
   "metadata": {},
   "source": [
    "Much closer to reality. Let's now look at feature importances to see what might be wrong:"
   ]
  },
  {
   "cell_type": "code",
   "execution_count": 590,
   "metadata": {},
   "outputs": [
    {
     "name": "stdout",
     "output_type": "stream",
     "text": [
      "max          335.092806\n",
      "std           79.285301\n",
      "MachineId     28.700754\n",
      "mean          13.544437\n",
      "min            0.000000\n",
      "dtype: float64\n"
     ]
    }
   ],
   "source": [
    "feature_names = final_df.drop(['PumpFailed', 'MeasurementId'], axis=1).columns\n",
    "feature_importance = pd.Series(sgd_clf.coef_[0], index=feature_names).sort_values(ascending=False)\n",
    "print(feature_importance)\n"
   ]
  },
  {
   "cell_type": "markdown",
   "metadata": {},
   "source": [
    "A-ha! My assumption that `machineId` might be predictive in any way is wrong, the same is with `slowStart` and `SlowEnd`. Let's train a model without them. \n",
    "\n",
    "UPD: this is obsolete, I wanted to check how all these feature might affect performance. (I know that these are labels:) ) At the moment these values were negative. I decided to drop SlowStart and SlowEnd at the beginning because they have a lot of NaN values and `dropna()` combined with class undersampling made the dataset too miniscule."
   ]
  },
  {
   "cell_type": "code",
   "execution_count": 591,
   "metadata": {},
   "outputs": [],
   "source": [
    "# train test split of resampled data\n",
    "X_train_resampled, X_test_resampled, y_train_resampled, y_test_resampled = train_test_split(features_resampled.drop(['mean', 'MachineId', 'MeasurementId'], axis=1), labels_resampled, test_size=0.2, random_state=42)"
   ]
  },
  {
   "cell_type": "code",
   "execution_count": 592,
   "metadata": {},
   "outputs": [
    {
     "data": {
      "text/plain": [
       "array([0.486297  , 0.55640535, 0.52071383])"
      ]
     },
     "execution_count": 592,
     "metadata": {},
     "output_type": "execute_result"
    }
   ],
   "source": [
    "# let's train the model aon the resampled data\n",
    "sgd_clf = SGDClassifier(random_state=42)\n",
    "sgd_clf.fit(X_train_resampled, y_train_resampled)\n",
    "\n",
    "cross_val_score(sgd_clf, X_train_resampled, y_train_resampled, cv=3, scoring=\"accuracy\")"
   ]
  },
  {
   "cell_type": "code",
   "execution_count": 593,
   "metadata": {},
   "outputs": [
    {
     "data": {
      "text/plain": [
       "array([[1322, 1006],\n",
       "       [1248, 1131]])"
      ]
     },
     "execution_count": 593,
     "metadata": {},
     "output_type": "execute_result"
    }
   ],
   "source": [
    "y_train_pred_resampled = cross_val_predict(sgd_clf, X_train_resampled, y_train_resampled, cv=3)\n",
    "confusion_matrix(y_train_resampled, y_train_pred_resampled)"
   ]
  },
  {
   "cell_type": "code",
   "execution_count": 594,
   "metadata": {},
   "outputs": [
    {
     "name": "stdout",
     "output_type": "stream",
     "text": [
      "Precision Score:  0.5292466073935423\n",
      "Recall Score:  0.47540983606557374\n",
      "F1 Score:  0.5008857395925598\n"
     ]
    }
   ],
   "source": [
    "# print(\"ROC AUC Score: \", roc_auc_score(y_train, y_scores))\n",
    "print(\"Precision Score: \", precision_score(y_train_resampled, y_train_pred_resampled))\n",
    "print(\"Recall Score: \", recall_score(y_train_resampled, y_train_pred_resampled))\n",
    "print(\"F1 Score: \", f1_score(y_train_resampled, y_train_pred_resampled))"
   ]
  },
  {
   "cell_type": "markdown",
   "metadata": {},
   "source": [
    "No too good, but better than zero) Now we have to come up with new features"
   ]
  },
  {
   "cell_type": "markdown",
   "metadata": {},
   "source": [
    "We are working with time-series data. A little bit of googling led me to the technique called Lag Features. Let's implement it:"
   ]
  },
  {
   "cell_type": "code",
   "execution_count": 595,
   "metadata": {},
   "outputs": [
    {
     "data": {
      "text/html": [
       "<div>\n",
       "<style scoped>\n",
       "    .dataframe tbody tr th:only-of-type {\n",
       "        vertical-align: middle;\n",
       "    }\n",
       "\n",
       "    .dataframe tbody tr th {\n",
       "        vertical-align: top;\n",
       "    }\n",
       "\n",
       "    .dataframe thead th {\n",
       "        text-align: right;\n",
       "    }\n",
       "</style>\n",
       "<table border=\"1\" class=\"dataframe\">\n",
       "  <thead>\n",
       "    <tr style=\"text-align: right;\">\n",
       "      <th></th>\n",
       "      <th>MachineId</th>\n",
       "      <th>MeasurementId</th>\n",
       "      <th>mean</th>\n",
       "      <th>std</th>\n",
       "      <th>min</th>\n",
       "      <th>max</th>\n",
       "      <th>Pressure_lag_1 mean</th>\n",
       "      <th>Pressure_lag_1 std</th>\n",
       "      <th>Pressure_lag_1 min</th>\n",
       "      <th>Pressure_lag_1 max</th>\n",
       "      <th>...</th>\n",
       "      <th>Pressure_lag_3 min</th>\n",
       "      <th>Pressure_lag_3 max</th>\n",
       "      <th>Pressure_lag_4 mean</th>\n",
       "      <th>Pressure_lag_4 std</th>\n",
       "      <th>Pressure_lag_4 min</th>\n",
       "      <th>Pressure_lag_4 max</th>\n",
       "      <th>Pressure_lag_5 mean</th>\n",
       "      <th>Pressure_lag_5 std</th>\n",
       "      <th>Pressure_lag_5 min</th>\n",
       "      <th>Pressure_lag_5 max</th>\n",
       "    </tr>\n",
       "  </thead>\n",
       "  <tbody>\n",
       "    <tr>\n",
       "      <th>0</th>\n",
       "      <td>0_2_2</td>\n",
       "      <td>7449</td>\n",
       "      <td>0.346348</td>\n",
       "      <td>0.569172</td>\n",
       "      <td>0.0</td>\n",
       "      <td>1.708423</td>\n",
       "      <td>0.346348</td>\n",
       "      <td>0.569172</td>\n",
       "      <td>0.0</td>\n",
       "      <td>1.708423</td>\n",
       "      <td>...</td>\n",
       "      <td>0.0</td>\n",
       "      <td>1.708423</td>\n",
       "      <td>0.346348</td>\n",
       "      <td>0.569172</td>\n",
       "      <td>0.0</td>\n",
       "      <td>1.708423</td>\n",
       "      <td>0.346348</td>\n",
       "      <td>0.569172</td>\n",
       "      <td>0.0</td>\n",
       "      <td>1.708423</td>\n",
       "    </tr>\n",
       "    <tr>\n",
       "      <th>1</th>\n",
       "      <td>0_1_3</td>\n",
       "      <td>3785</td>\n",
       "      <td>0.459135</td>\n",
       "      <td>0.453392</td>\n",
       "      <td>0.0</td>\n",
       "      <td>1.238322</td>\n",
       "      <td>0.459135</td>\n",
       "      <td>0.453392</td>\n",
       "      <td>0.0</td>\n",
       "      <td>1.238322</td>\n",
       "      <td>...</td>\n",
       "      <td>0.0</td>\n",
       "      <td>1.238322</td>\n",
       "      <td>0.459135</td>\n",
       "      <td>0.453392</td>\n",
       "      <td>0.0</td>\n",
       "      <td>1.238322</td>\n",
       "      <td>0.459135</td>\n",
       "      <td>0.453392</td>\n",
       "      <td>0.0</td>\n",
       "      <td>1.238322</td>\n",
       "    </tr>\n",
       "    <tr>\n",
       "      <th>2</th>\n",
       "      <td>4_1_1</td>\n",
       "      <td>1656</td>\n",
       "      <td>0.330696</td>\n",
       "      <td>0.528453</td>\n",
       "      <td>0.0</td>\n",
       "      <td>1.390403</td>\n",
       "      <td>0.330696</td>\n",
       "      <td>0.528453</td>\n",
       "      <td>0.0</td>\n",
       "      <td>1.390403</td>\n",
       "      <td>...</td>\n",
       "      <td>0.0</td>\n",
       "      <td>1.390403</td>\n",
       "      <td>0.330696</td>\n",
       "      <td>0.528453</td>\n",
       "      <td>0.0</td>\n",
       "      <td>1.390403</td>\n",
       "      <td>0.330696</td>\n",
       "      <td>0.528453</td>\n",
       "      <td>0.0</td>\n",
       "      <td>1.390403</td>\n",
       "    </tr>\n",
       "    <tr>\n",
       "      <th>3</th>\n",
       "      <td>4_1_0</td>\n",
       "      <td>8052</td>\n",
       "      <td>0.497442</td>\n",
       "      <td>0.484888</td>\n",
       "      <td>0.0</td>\n",
       "      <td>1.369149</td>\n",
       "      <td>0.497442</td>\n",
       "      <td>0.484888</td>\n",
       "      <td>0.0</td>\n",
       "      <td>1.369149</td>\n",
       "      <td>...</td>\n",
       "      <td>0.0</td>\n",
       "      <td>1.369149</td>\n",
       "      <td>0.497442</td>\n",
       "      <td>0.484888</td>\n",
       "      <td>0.0</td>\n",
       "      <td>1.369149</td>\n",
       "      <td>0.497442</td>\n",
       "      <td>0.484888</td>\n",
       "      <td>0.0</td>\n",
       "      <td>1.369149</td>\n",
       "    </tr>\n",
       "    <tr>\n",
       "      <th>4</th>\n",
       "      <td>27_2_0</td>\n",
       "      <td>4459</td>\n",
       "      <td>0.426161</td>\n",
       "      <td>0.326587</td>\n",
       "      <td>0.0</td>\n",
       "      <td>0.861233</td>\n",
       "      <td>0.426161</td>\n",
       "      <td>0.326587</td>\n",
       "      <td>0.0</td>\n",
       "      <td>0.861233</td>\n",
       "      <td>...</td>\n",
       "      <td>0.0</td>\n",
       "      <td>0.861233</td>\n",
       "      <td>0.426161</td>\n",
       "      <td>0.326587</td>\n",
       "      <td>0.0</td>\n",
       "      <td>0.861233</td>\n",
       "      <td>0.426161</td>\n",
       "      <td>0.326587</td>\n",
       "      <td>0.0</td>\n",
       "      <td>0.861233</td>\n",
       "    </tr>\n",
       "  </tbody>\n",
       "</table>\n",
       "<p>5 rows × 26 columns</p>\n",
       "</div>"
      ],
      "text/plain": [
       "  MachineId  MeasurementId      mean       std  min       max  \\\n",
       "0     0_2_2           7449  0.346348  0.569172  0.0  1.708423   \n",
       "1     0_1_3           3785  0.459135  0.453392  0.0  1.238322   \n",
       "2     4_1_1           1656  0.330696  0.528453  0.0  1.390403   \n",
       "3     4_1_0           8052  0.497442  0.484888  0.0  1.369149   \n",
       "4    27_2_0           4459  0.426161  0.326587  0.0  0.861233   \n",
       "\n",
       "   Pressure_lag_1 mean  Pressure_lag_1 std  Pressure_lag_1 min  \\\n",
       "0             0.346348            0.569172                 0.0   \n",
       "1             0.459135            0.453392                 0.0   \n",
       "2             0.330696            0.528453                 0.0   \n",
       "3             0.497442            0.484888                 0.0   \n",
       "4             0.426161            0.326587                 0.0   \n",
       "\n",
       "   Pressure_lag_1 max  ...  Pressure_lag_3 min  Pressure_lag_3 max  \\\n",
       "0            1.708423  ...                 0.0            1.708423   \n",
       "1            1.238322  ...                 0.0            1.238322   \n",
       "2            1.390403  ...                 0.0            1.390403   \n",
       "3            1.369149  ...                 0.0            1.369149   \n",
       "4            0.861233  ...                 0.0            0.861233   \n",
       "\n",
       "   Pressure_lag_4 mean  Pressure_lag_4 std  Pressure_lag_4 min  \\\n",
       "0             0.346348            0.569172                 0.0   \n",
       "1             0.459135            0.453392                 0.0   \n",
       "2             0.330696            0.528453                 0.0   \n",
       "3             0.497442            0.484888                 0.0   \n",
       "4             0.426161            0.326587                 0.0   \n",
       "\n",
       "   Pressure_lag_4 max  Pressure_lag_5 mean  Pressure_lag_5 std  \\\n",
       "0            1.708423             0.346348            0.569172   \n",
       "1            1.238322             0.459135            0.453392   \n",
       "2            1.390403             0.330696            0.528453   \n",
       "3            1.369149             0.497442            0.484888   \n",
       "4            0.861233             0.426161            0.326587   \n",
       "\n",
       "   Pressure_lag_5 min  Pressure_lag_5 max  \n",
       "0                 0.0            1.708423  \n",
       "1                 0.0            1.238322  \n",
       "2                 0.0            1.390403  \n",
       "3                 0.0            1.369149  \n",
       "4                 0.0            0.861233  \n",
       "\n",
       "[5 rows x 26 columns]"
      ]
     },
     "execution_count": 595,
     "metadata": {},
     "output_type": "execute_result"
    }
   ],
   "source": [
    "import pandas as pd\n",
    "\n",
    "# just to be sure\n",
    "df_filtered = df_filtered.sort_values(by=['MachineId', 'MeasurementId'])\n",
    "\n",
    "num_lags = 5  # number of lags to create\n",
    "\n",
    "for i in range(1, num_lags + 1):\n",
    "    df_filtered[f'Pressure_lag_{i}'] = df_filtered.groupby('MachineId')['Pressure'].shift(i)\n",
    "\n",
    "aggregated_lagged_features = df_filtered.groupby(['MachineId', 'MeasurementId']).agg({\n",
    "    'Pressure_lag_1': ['mean', 'std', 'min', 'max'],\n",
    "    'Pressure_lag_2': ['mean', 'std', 'min', 'max'],\n",
    "    'Pressure_lag_3': ['mean', 'std', 'min', 'max'],\n",
    "    'Pressure_lag_4': ['mean', 'std', 'min', 'max'],\n",
    "    'Pressure_lag_5': ['mean', 'std', 'min', 'max']\n",
    "}).reset_index()\n",
    "\n",
    "aggregated_lagged_features.columns = [' '.join(col).strip() for col in aggregated_lagged_features.columns.values]\n",
    "\n",
    "new_df = pd.merge(features_resampled, aggregated_lagged_features, on=['MachineId', 'MeasurementId'], how='left')\n",
    "\n",
    "new_df = new_df.dropna()\n",
    "\n",
    "new_df.head()\n"
   ]
  },
  {
   "cell_type": "code",
   "execution_count": 596,
   "metadata": {},
   "outputs": [
    {
     "data": {
      "text/plain": [
       "(5884, 26)"
      ]
     },
     "execution_count": 596,
     "metadata": {},
     "output_type": "execute_result"
    }
   ],
   "source": [
    "new_df.shape"
   ]
  },
  {
   "cell_type": "markdown",
   "metadata": {},
   "source": [
    "Now that we have extended dataset, let's look how different models perform on it:"
   ]
  },
  {
   "cell_type": "code",
   "execution_count": 597,
   "metadata": {},
   "outputs": [],
   "source": [
    "from sklearn.model_selection import train_test_split\n",
    "\n",
    "# setting trainig and test data\n",
    "X = new_df.drop([\"MeasurementId\", \"MachineId\"], axis=1)\n",
    "y = labels_resampled\n",
    "\n",
    "X_train_new, X_test_new, y_train_new, y_test_new = train_test_split(X, y, test_size=0.2, random_state=42)"
   ]
  },
  {
   "cell_type": "code",
   "execution_count": 598,
   "metadata": {},
   "outputs": [],
   "source": [
    "from sklearn.model_selection import cross_val_score, cross_val_predict\n",
    "from sklearn.metrics import confusion_matrix, precision_score, recall_score, f1_score\n",
    "\n",
    "# further we will train a lot of models so let's create a function to evaluate them\n",
    "# to avoid code duplication\n",
    "def evaluate_model(model, X_train, y_train):\n",
    "    # Cross-validation accuracy score\n",
    "    accuracy_scores = cross_val_score(model, X_train, y_train, cv=3, scoring=\"accuracy\")\n",
    "    print(f\"Cross-Validation Accuracy: {accuracy_scores.mean():.4f} (±{accuracy_scores.std():.4f})\")\n",
    "\n",
    "    # Cross-validation predictions\n",
    "    y_train_pred = cross_val_predict(model, X_train, y_train, cv=3)\n",
    "\n",
    "    # Confusion matrix\n",
    "    conf_mat = confusion_matrix(y_train, y_train_pred)\n",
    "    print(\"Confusion Matrix:\")\n",
    "    print(conf_mat)\n",
    "\n",
    "    # Precision, Recall, and F1 Score\n",
    "    precision = precision_score(y_train, y_train_pred)\n",
    "    recall = recall_score(y_train, y_train_pred)\n",
    "    f1 = f1_score(y_train, y_train_pred)\n",
    "\n",
    "    print(f\"Precision Score: {precision:.4f}\")\n",
    "    print(f\"Recall Score: {recall:.4f}\")\n",
    "    print(f\"F1 Score: {f1:.4f}\")\n"
   ]
  },
  {
   "cell_type": "markdown",
   "metadata": {},
   "source": [
    "### Selecting the best model\n",
    "Here we will test a lot of different models to see which fits data the best."
   ]
  },
  {
   "cell_type": "code",
   "execution_count": 599,
   "metadata": {},
   "outputs": [
    {
     "name": "stdout",
     "output_type": "stream",
     "text": [
      "Cross-Validation Accuracy: 0.5184 (±0.0216)\n",
      "Confusion Matrix:\n",
      "[[ 913 1415]\n",
      " [ 852 1527]]\n",
      "Precision Score: 0.5190\n",
      "Recall Score: 0.6419\n",
      "F1 Score: 0.5740\n"
     ]
    }
   ],
   "source": [
    "sgd_clf = SGDClassifier(random_state=42)\n",
    "sgd_clf.fit(X_train_new, y_train_new)\n",
    "\n",
    "# cross_val_score(sgd_clf, X_train_new, y_train_new, cv=3, scoring=\"accuracy\")\n",
    "evaluate_model(sgd_clf, X_train_new, y_train_new)"
   ]
  },
  {
   "cell_type": "code",
   "execution_count": 600,
   "metadata": {},
   "outputs": [
    {
     "name": "stdout",
     "output_type": "stream",
     "text": [
      "Pressure_lag_5 mean    0.375252\n",
      "Pressure_lag_5 std     0.369118\n",
      "Pressure_lag_4 std     0.341335\n",
      "Pressure_lag_3 std     0.313945\n",
      "Pressure_lag_2 std     0.285995\n",
      "Pressure_lag_1 std     0.257592\n",
      "std                    0.228129\n",
      "Pressure_lag_4 mean    0.156941\n",
      "min                    0.000000\n",
      "Pressure_lag_5 min     0.000000\n",
      "Pressure_lag_1 min     0.000000\n",
      "Pressure_lag_2 min     0.000000\n",
      "Pressure_lag_4 min     0.000000\n",
      "Pressure_lag_3 min     0.000000\n",
      "Pressure_lag_5 max    -0.028610\n",
      "Pressure_lag_4 max    -0.048109\n",
      "Pressure_lag_3 mean   -0.058564\n",
      "Pressure_lag_3 max    -0.076470\n",
      "Pressure_lag_2 max    -0.076470\n",
      "Pressure_lag_1 max    -0.076470\n",
      "Pressure_lag_2 mean   -0.271871\n",
      "max                   -0.287605\n",
      "Pressure_lag_1 mean   -0.481852\n",
      "mean                  -0.691045\n",
      "dtype: float64\n"
     ]
    }
   ],
   "source": [
    "# just checking the feature importance\n",
    "feature_names = new_df.drop([\"MeasurementId\", \"MachineId\"], axis=1).columns\n",
    "feature_importance = pd.Series(sgd_clf.coef_[0], index=feature_names).sort_values(ascending=False)\n",
    "print(feature_importance)"
   ]
  },
  {
   "cell_type": "code",
   "execution_count": 601,
   "metadata": {},
   "outputs": [
    {
     "name": "stdout",
     "output_type": "stream",
     "text": [
      "Cross-Validation Accuracy: 0.5322 (±0.0077)\n",
      "Confusion Matrix:\n",
      "[[1232 1096]\n",
      " [1106 1273]]\n",
      "Precision Score: 0.5374\n",
      "Recall Score: 0.5351\n",
      "F1 Score: 0.5362\n"
     ]
    }
   ],
   "source": [
    "from sklearn.ensemble import RandomForestClassifier\n",
    "\n",
    "rf_clf = RandomForestClassifier(random_state=42)\n",
    "rf_clf.fit(X_train_new, y_train_new)\n",
    "evaluate_model(rf_clf, X_train_new, y_train_new)"
   ]
  },
  {
   "cell_type": "code",
   "execution_count": 602,
   "metadata": {},
   "outputs": [
    {
     "name": "stdout",
     "output_type": "stream",
     "text": [
      "Cross-Validation Accuracy: 0.5547 (±0.0264)\n",
      "Confusion Matrix:\n",
      "[[1039 1289]\n",
      " [ 807 1572]]\n",
      "Precision Score: 0.5495\n",
      "Recall Score: 0.6608\n",
      "F1 Score: 0.6000\n"
     ]
    }
   ],
   "source": [
    "from sklearn.svm import SVC\n",
    "\n",
    "svc_clf = SVC()\n",
    "svc_clf.fit(X_train_new, y_train_new)\n",
    "evaluate_model(svc_clf, X_train_new, y_train_new)"
   ]
  },
  {
   "cell_type": "code",
   "execution_count": 603,
   "metadata": {},
   "outputs": [
    {
     "name": "stdout",
     "output_type": "stream",
     "text": [
      "Cross-Validation Accuracy: 0.5536 (±0.0144)\n",
      "Confusion Matrix:\n",
      "[[1042 1286]\n",
      " [ 815 1564]]\n",
      "Precision Score: 0.5488\n",
      "Recall Score: 0.6574\n",
      "F1 Score: 0.5982\n"
     ]
    }
   ],
   "source": [
    "from sklearn.ensemble import GradientBoostingClassifier\n",
    "\n",
    "gb_clf = GradientBoostingClassifier(random_state=42)\n",
    "gb_clf.fit(X_train_new, y_train_new)\n",
    "evaluate_model(gb_clf, X_train_new, y_train_new)"
   ]
  },
  {
   "cell_type": "code",
   "execution_count": 604,
   "metadata": {},
   "outputs": [
    {
     "name": "stdout",
     "output_type": "stream",
     "text": [
      "Cross-Validation Accuracy: 0.5636 (±0.0073)\n",
      "Confusion Matrix:\n",
      "[[1053 1275]\n",
      " [ 779 1600]]\n",
      "Precision Score: 0.5565\n",
      "Recall Score: 0.6726\n",
      "F1 Score: 0.6091\n"
     ]
    }
   ],
   "source": [
    "from sklearn.ensemble import AdaBoostClassifier\n",
    "\n",
    "ada_clf = AdaBoostClassifier(random_state=42)\n",
    "ada_clf.fit(X_train_new, y_train_new)\n",
    "evaluate_model(ada_clf, X_train_new, y_train_new)"
   ]
  },
  {
   "cell_type": "code",
   "execution_count": 605,
   "metadata": {},
   "outputs": [
    {
     "name": "stdout",
     "output_type": "stream",
     "text": [
      "Cross-Validation Accuracy: 0.5577 (±0.0143)\n",
      "Confusion Matrix:\n",
      "[[ 849 1479]\n",
      " [ 603 1776]]\n",
      "Precision Score: 0.5456\n",
      "Recall Score: 0.7465\n",
      "F1 Score: 0.6305\n"
     ]
    }
   ],
   "source": [
    "from sklearn.naive_bayes import GaussianNB\n",
    "\n",
    "gnb = GaussianNB()\n",
    "gnb.fit(X_train_new, y_train_new)\n",
    "evaluate_model(gnb, X_train_new, y_train_new)"
   ]
  },
  {
   "cell_type": "code",
   "execution_count": 606,
   "metadata": {},
   "outputs": [
    {
     "name": "stdout",
     "output_type": "stream",
     "text": [
      "Cross-Validation Accuracy: 0.5543 (±0.0090)\n",
      "Confusion Matrix:\n",
      "[[ 707 1621]\n",
      " [ 477 1902]]\n",
      "Precision Score: 0.5399\n",
      "Recall Score: 0.7995\n",
      "F1 Score: 0.6445\n"
     ]
    }
   ],
   "source": [
    "from sklearn.neural_network import MLPClassifier\n",
    "\n",
    "mlp_clf = MLPClassifier(random_state=42)\n",
    "mlp_clf.fit(X_train_new, y_train_new)\n",
    "evaluate_model(mlp_clf, X_train_new, y_train_new)\n"
   ]
  },
  {
   "cell_type": "code",
   "execution_count": 607,
   "metadata": {},
   "outputs": [
    {
     "name": "stdout",
     "output_type": "stream",
     "text": [
      "Cross-Validation Accuracy: 0.5148 (±0.0087)\n",
      "Confusion Matrix:\n",
      "[[1133 1195]\n",
      " [1089 1290]]\n",
      "Precision Score: 0.5191\n",
      "Recall Score: 0.5422\n",
      "F1 Score: 0.5304\n"
     ]
    }
   ],
   "source": [
    "from sklearn.neighbors import KNeighborsClassifier\n",
    "\n",
    "knn_clf = KNeighborsClassifier()\n",
    "knn_clf.fit(X_train_new, y_train_new)\n",
    "evaluate_model(knn_clf, X_train_new, y_train_new)"
   ]
  },
  {
   "cell_type": "markdown",
   "metadata": {},
   "source": [
    "| Model | Cross-Validation Accuracy | Precision Score | Recall Score | F1 Score |\n",
    "|-------|--------------------------|-----------------|--------------|----------|\n",
    "| SGD Classifier | 0.5184 (±0.0216) | 0.5190 | 0.6419 | 0.5740 |\n",
    "| Random Forest Classifier | 0.5322 (±0.0077)  | 0.5374 | 0.5351 | 0.5362 |\n",
    "| Support Vector Classifier | 0.5547 (±0.0264) | 0.5495 | 0.6608 | 0.6000 |\n",
    "| Gradient Boosting Classifier | 0.5536 (±0.0144) | 0.5488 | 0.6574 | 0.5982 |\n",
    "| AdaBoost Classifier | 0.5636 (±0.0073) | 0.5565 | 0.6726 | 0.6091 |\n",
    "| Gaussian Naive Bayes | 0.5577 (±0.0143) | 0.5456 | 0.7465 | 0.6305 |\n",
    "| MLP Classifier | 0.5543 (±0.0090) | 0.5399 | 0.7995 | 0.6445 |\n",
    "| K Neighbors Classifier | 0.5148 (±0.0087) | 0.5191 | 0.5422 | 0.5304 |"
   ]
  },
  {
   "cell_type": "markdown",
   "metadata": {},
   "source": [
    "The choice of the model would now depend on the customer's requirements: if the customer is ok with false alarms, but wants to capture as many failures as possible, the MLP classifier would be the model of choice (as it has high recall score); if customer is not ok with false alarms and he wants that the number of false-negatives and the number of false-positives were as close as possible, then the AdaBoost Classifier would be our choice (highest precision score).\n",
    "\n",
    "Then we would fine tune the model, test it on the test set and then deploy it."
   ]
  },
  {
   "cell_type": "markdown",
   "metadata": {},
   "source": [
    "Let's finetune MLP classifier:"
   ]
  },
  {
   "cell_type": "code",
   "execution_count": 608,
   "metadata": {},
   "outputs": [
    {
     "name": "stdout",
     "output_type": "stream",
     "text": [
      "Best Parameters:  {'activation': 'relu', 'alpha': 0.01, 'hidden_layer_sizes': (200,), 'learning_rate': 'constant'}\n",
      "Best Score:  0.5676651795198641\n"
     ]
    }
   ],
   "source": [
    "from sklearn.model_selection import GridSearchCV\n",
    "\n",
    "param_grid = {\n",
    "    'hidden_layer_sizes': [(200,), (300,), (400,)],\n",
    "    'activation': ['relu', 'tanh'],\n",
    "    'alpha': [0.0001, 0.001, 0.01, 0.1], # 0.0001, 0.001, \n",
    "    'learning_rate': ['constant', 'adaptive']\n",
    "}\n",
    "\n",
    "mlp = MLPClassifier(random_state=42)\n",
    "\n",
    "grid_search = GridSearchCV(mlp, param_grid, cv=3, scoring='accuracy')\n",
    "\n",
    "grid_search.fit(X_train_new, y_train_new)\n",
    "\n",
    "print(\"Best Parameters: \", grid_search.best_params_)\n",
    "print(\"Best Score: \", grid_search.best_score_)\n"
   ]
  },
  {
   "cell_type": "code",
   "execution_count": 609,
   "metadata": {},
   "outputs": [
    {
     "name": "stdout",
     "output_type": "stream",
     "text": [
      "MLPClassifier(alpha=0.01, hidden_layer_sizes=(200,), random_state=42)\n"
     ]
    }
   ],
   "source": [
    "best_model = grid_search.best_estimator_\n",
    "print(best_model)\n"
   ]
  },
  {
   "cell_type": "code",
   "execution_count": 611,
   "metadata": {},
   "outputs": [
    {
     "data": {
      "text/plain": [
       "array([0, 1, 0, ..., 0, 1, 1])"
      ]
     },
     "execution_count": 611,
     "metadata": {},
     "output_type": "execute_result"
    }
   ],
   "source": [
    "best_model.predict(X_train_new)"
   ]
  },
  {
   "cell_type": "markdown",
   "metadata": {},
   "source": [
    "### Closing remarks\n"
   ]
  },
  {
   "cell_type": "markdown",
   "metadata": {},
   "source": [
    "It is far from idel, but I hope I was able to show my understanding of the machine learning. This is my first project on time-series data so I hope it was not too bad.\n",
    "If I could I would spend more time on feature engineering. And if the acceptability of false-positives/false-negatives was known I would spend more time on the selected model's hyperparameter tuning. Anyway, thank you for reviewing this Jupyter notebook."
   ]
  }
 ],
 "metadata": {
  "kernelspec": {
   "display_name": "kidney-life",
   "language": "python",
   "name": "python3"
  },
  "language_info": {
   "codemirror_mode": {
    "name": "ipython",
    "version": 3
   },
   "file_extension": ".py",
   "mimetype": "text/x-python",
   "name": "python",
   "nbconvert_exporter": "python",
   "pygments_lexer": "ipython3",
   "version": "3.11.7"
  }
 },
 "nbformat": 4,
 "nbformat_minor": 2
}
